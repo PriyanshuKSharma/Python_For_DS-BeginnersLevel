{
 "cells": [
  {
   "cell_type": "code",
   "execution_count": 1,
   "id": "2262fb37-b838-4cb6-a12a-4d21d8f1bf59",
   "metadata": {},
   "outputs": [],
   "source": [
    "import numpy as np"
   ]
  },
  {
   "cell_type": "code",
   "execution_count": 2,
   "id": "a0344f73-048f-4996-99d2-256da26f82a5",
   "metadata": {},
   "outputs": [
    {
     "name": "stdout",
     "output_type": "stream",
     "text": [
      "[[1 2 3 4]\n",
      " [5 6 7 8]]\n",
      "int32\n",
      "(2, 4)\n",
      "8\n"
     ]
    }
   ],
   "source": [
    "listarray = np.array([[1,2,3,4], [5,6,7,8]])\n",
    "print(listarray)\n",
    "print(listarray.dtype)\n",
    "print(listarray.shape)\n",
    "print(listarray.size) #creates the list of arrays"
   ]
  },
  {
   "cell_type": "code",
   "execution_count": 3,
   "id": "b34de91d-17f0-4d8a-8470-0c58798c1bc3",
   "metadata": {},
   "outputs": [
    {
     "data": {
      "text/plain": [
       "(2, 4)"
      ]
     },
     "execution_count": 3,
     "metadata": {},
     "output_type": "execute_result"
    }
   ],
   "source": [
    "listarray.shape"
   ]
  },
  {
   "cell_type": "code",
   "execution_count": 4,
   "id": "e4a4be7c-e49c-4957-ac88-89e15c843327",
   "metadata": {},
   "outputs": [
    {
     "data": {
      "text/plain": [
       "8"
      ]
     },
     "execution_count": 4,
     "metadata": {},
     "output_type": "execute_result"
    }
   ],
   "source": [
    "listarray.size"
   ]
  },
  {
   "cell_type": "code",
   "execution_count": 5,
   "id": "ea2e7535-8e17-406d-bfd4-e93f71b711d1",
   "metadata": {},
   "outputs": [
    {
     "data": {
      "text/plain": [
       "array({40, 50, 30}, dtype=object)"
      ]
     },
     "execution_count": 5,
     "metadata": {},
     "output_type": "execute_result"
    }
   ],
   "source": [
    "np.array({30,40,50}) #creates a dictionary"
   ]
  },
  {
   "cell_type": "code",
   "execution_count": 6,
   "id": "27c1931b-b1f4-4924-a181-90aac86b8f36",
   "metadata": {},
   "outputs": [
    {
     "name": "stdout",
     "output_type": "stream",
     "text": [
      "[[0. 0. 0. 0. 0.]\n",
      " [0. 0. 0. 0. 0.]]\n",
      "float64\n",
      "10\n",
      "(2, 5)\n"
     ]
    }
   ],
   "source": [
    "zeros=np.zeros((2,5))\n",
    "print(zeros)\n",
    "print(zeros.dtype)\n",
    "print(zeros.size)\n",
    "print(zeros.shape) #prints the matrix with zeros in it"
   ]
  },
  {
   "cell_type": "code",
   "execution_count": 7,
   "id": "a843b437-4e70-4e0b-97f2-698bf9ac2ce0",
   "metadata": {},
   "outputs": [
    {
     "data": {
      "text/plain": [
       "array([ 0,  1,  2,  3,  4,  5,  6,  7,  8,  9, 10, 11, 12, 13, 14])"
      ]
     },
     "execution_count": 7,
     "metadata": {},
     "output_type": "execute_result"
    }
   ],
   "source": [
    "rng=np.arange(15)\n",
    "rng #it gives the number between the range"
   ]
  },
  {
   "cell_type": "code",
   "execution_count": 8,
   "id": "c340e549-c635-4083-a769-6e05f7dcadf7",
   "metadata": {},
   "outputs": [
    {
     "data": {
      "text/plain": [
       "array([1.        , 1.36363636, 1.72727273, 2.09090909, 2.45454545,\n",
       "       2.81818182, 3.18181818, 3.54545455, 3.90909091, 4.27272727,\n",
       "       4.63636364, 5.        ])"
      ]
     },
     "execution_count": 8,
     "metadata": {},
     "output_type": "execute_result"
    }
   ],
   "source": [
    "lspace=np.linspace(1,5,12)\n",
    "lspace #it divides the number into equal parts"
   ]
  },
  {
   "cell_type": "code",
   "execution_count": 9,
   "id": "da1598f3-e8e5-4510-b0aa-4021ca567c8e",
   "metadata": {},
   "outputs": [
    {
     "data": {
      "text/plain": [
       "array([[ 0.0000000e+000,  0.0000000e+000,  0.0000000e+000,\n",
       "         0.0000000e+000,  0.0000000e+000,  0.0000000e+000],\n",
       "       [ 0.0000000e+000,  0.0000000e+000,  0.0000000e+000,\n",
       "         0.0000000e+000,  0.0000000e+000,  0.0000000e+000],\n",
       "       [ 0.0000000e+000, -1.9236682e-310,  0.0000000e+000,\n",
       "         0.0000000e+000,  0.0000000e+000,  0.0000000e+000],\n",
       "       [ 0.0000000e+000,  0.0000000e+000,  0.0000000e+000,\n",
       "         0.0000000e+000,  0.0000000e+000,  0.0000000e+000]])"
      ]
     },
     "execution_count": 9,
     "metadata": {},
     "output_type": "execute_result"
    }
   ],
   "source": [
    "emp=np.empty((4,6))\n",
    "emp #prints an empty array"
   ]
  },
  {
   "cell_type": "code",
   "execution_count": 10,
   "id": "09ab3e43-aea0-4a49-8400-eaceffcda396",
   "metadata": {},
   "outputs": [
    {
     "data": {
      "text/plain": [
       "array([[1., 0., 0., ..., 0., 0., 0.],\n",
       "       [0., 1., 0., ..., 0., 0., 0.],\n",
       "       [0., 0., 1., ..., 0., 0., 0.],\n",
       "       ...,\n",
       "       [0., 0., 0., ..., 1., 0., 0.],\n",
       "       [0., 0., 0., ..., 0., 1., 0.],\n",
       "       [0., 0., 0., ..., 0., 0., 1.]])"
      ]
     },
     "execution_count": 10,
     "metadata": {},
     "output_type": "execute_result"
    }
   ],
   "source": [
    "ide=np.identity(45)\n",
    "ide"
   ]
  },
  {
   "cell_type": "code",
   "execution_count": 11,
   "id": "0dd9b24c-3a7d-493c-9785-db8d0e69aee4",
   "metadata": {},
   "outputs": [
    {
     "name": "stdout",
     "output_type": "stream",
     "text": [
      "[ 0  1  2  3  4  5  6  7  8  9 10 11 12 13 14 15 16 17 18 19 20 21 22 23\n",
      " 24 25 26 27 28 29 30 31 32 33 34 35 36 37 38 39 40 41 42 43 44 45 46 47\n",
      " 48 49 50 51 52 53 54 55 56 57 58 59 60 61 62 63 64 65 66 67 68 69 70 71\n",
      " 72 73 74 75 76 77 78 79 80 81 82 83 84 85 86 87 88 89 90 91 92 93 94 95\n",
      " 96 97 98]\n"
     ]
    }
   ],
   "source": [
    "arr=np.arange(99)\n",
    "print(arr)"
   ]
  },
  {
   "cell_type": "code",
   "execution_count": 12,
   "id": "dc9d025b-a370-4f17-b094-0b90b90e29f2",
   "metadata": {},
   "outputs": [
    {
     "data": {
      "text/plain": [
       "array([[ 0,  1,  2,  3,  4,  5,  6,  7,  8,  9, 10, 11, 12, 13, 14, 15,\n",
       "        16, 17, 18, 19, 20, 21, 22, 23, 24, 25, 26, 27, 28, 29, 30, 31,\n",
       "        32],\n",
       "       [33, 34, 35, 36, 37, 38, 39, 40, 41, 42, 43, 44, 45, 46, 47, 48,\n",
       "        49, 50, 51, 52, 53, 54, 55, 56, 57, 58, 59, 60, 61, 62, 63, 64,\n",
       "        65],\n",
       "       [66, 67, 68, 69, 70, 71, 72, 73, 74, 75, 76, 77, 78, 79, 80, 81,\n",
       "        82, 83, 84, 85, 86, 87, 88, 89, 90, 91, 92, 93, 94, 95, 96, 97,\n",
       "        98]])"
      ]
     },
     "execution_count": 12,
     "metadata": {},
     "output_type": "execute_result"
    }
   ],
   "source": [
    "arr.reshape(3,33) #reshape the array"
   ]
  },
  {
   "cell_type": "code",
   "execution_count": 13,
   "id": "4ae7fa95-f90c-4ecb-9927-39ba894d88e1",
   "metadata": {},
   "outputs": [
    {
     "data": {
      "text/plain": [
       "array([1.        , 1.36363636, 1.72727273, 2.09090909, 2.45454545,\n",
       "       2.81818182, 3.18181818, 3.54545455, 3.90909091, 4.27272727,\n",
       "       4.63636364, 5.        ])"
      ]
     },
     "execution_count": 13,
     "metadata": {},
     "output_type": "execute_result"
    }
   ],
   "source": [
    "emp_like=np.empty_like(lspace)\n",
    "emp_like #creates empty array of same size of given array"
   ]
  },
  {
   "cell_type": "code",
   "execution_count": 17,
   "id": "8d6ad6e3-a660-443e-b628-188ff0ec6348",
   "metadata": {},
   "outputs": [],
   "source": [
    "arr = np.array([[1,2,3,4], [5,6,7,8]])"
   ]
  },
  {
   "cell_type": "code",
   "execution_count": 18,
   "id": "ce32f07b-f0ae-46c1-b093-54025f3607b8",
   "metadata": {},
   "outputs": [
    {
     "data": {
      "text/plain": [
       "array([[1, 2, 3, 4],\n",
       "       [5, 6, 7, 8]])"
      ]
     },
     "execution_count": 18,
     "metadata": {},
     "output_type": "execute_result"
    }
   ],
   "source": [
    "arr"
   ]
  },
  {
   "cell_type": "code",
   "execution_count": 20,
   "id": "3c83a400-9419-48c0-98b5-cf57bc835f1a",
   "metadata": {},
   "outputs": [],
   "source": [
    "arr1 = np.array([1,2,3,4])"
   ]
  },
  {
   "cell_type": "code",
   "execution_count": 21,
   "id": "27ec9177-64b7-4886-ad09-0eb3ce30bcf5",
   "metadata": {},
   "outputs": [
    {
     "data": {
      "text/plain": [
       "array([1, 2, 3, 4])"
      ]
     },
     "execution_count": 21,
     "metadata": {},
     "output_type": "execute_result"
    }
   ],
   "source": [
    "arr1"
   ]
  },
  {
   "cell_type": "code",
   "execution_count": 23,
   "id": "78a9e24f-24c7-4afa-8c28-2e1fd6da5b76",
   "metadata": {},
   "outputs": [
    {
     "data": {
      "text/plain": [
       "4"
      ]
     },
     "execution_count": 23,
     "metadata": {},
     "output_type": "execute_result"
    }
   ],
   "source": [
    "np.max(arr1)"
   ]
  },
  {
   "cell_type": "code",
   "execution_count": 26,
   "id": "354db882-baee-46ef-b4be-7437e997c47d",
   "metadata": {},
   "outputs": [
    {
     "data": {
      "text/plain": [
       "36"
      ]
     },
     "execution_count": 26,
     "metadata": {},
     "output_type": "execute_result"
    }
   ],
   "source": [
    "np.sum(arr)"
   ]
  },
  {
   "cell_type": "code",
   "execution_count": 27,
   "id": "08cbeed1-0860-46c4-8a28-bdb5ae5561e8",
   "metadata": {},
   "outputs": [
    {
     "data": {
      "text/plain": [
       "array([[ 2,  4,  6,  8],\n",
       "       [ 6,  8, 10, 12]])"
      ]
     },
     "execution_count": 27,
     "metadata": {},
     "output_type": "execute_result"
    }
   ],
   "source": [
    "np.add(arr,arr1)"
   ]
  },
  {
   "cell_type": "code",
   "execution_count": 28,
   "id": "3854ed02-baea-4fb9-ad88-8d894f7287f5",
   "metadata": {},
   "outputs": [
    {
     "data": {
      "text/plain": [
       "array([[ 0.84147098,  0.90929743,  0.14112001, -0.7568025 ],\n",
       "       [-0.95892427, -0.2794155 ,  0.6569866 ,  0.98935825]])"
      ]
     },
     "execution_count": 28,
     "metadata": {},
     "output_type": "execute_result"
    }
   ],
   "source": [
    "np.sin(arr)"
   ]
  },
  {
   "cell_type": "code",
   "execution_count": 35,
   "id": "2e9f9140-6ef9-4136-b5d2-0153bbb91da5",
   "metadata": {},
   "outputs": [
    {
     "data": {
      "text/plain": [
       "array([[   1,    4,   27,  256],\n",
       "       [   5,   36,  343, 4096]])"
      ]
     },
     "execution_count": 35,
     "metadata": {},
     "output_type": "execute_result"
    }
   ],
   "source": [
    "np.power(arr,arr1)"
   ]
  },
  {
   "cell_type": "code",
   "execution_count": 36,
   "id": "82b1196c-57a2-44eb-b08f-04f12f49acff",
   "metadata": {},
   "outputs": [
    {
     "data": {
      "text/plain": [
       "array([1, 2, 3, 4, 5, 6, 7, 8])"
      ]
     },
     "execution_count": 36,
     "metadata": {},
     "output_type": "execute_result"
    }
   ],
   "source": [
    "np.unique(arr)"
   ]
  },
  {
   "cell_type": "code",
   "execution_count": 39,
   "id": "db140e98-b1e3-44a0-9c61-80c6db51ca83",
   "metadata": {},
   "outputs": [
    {
     "ename": "AttributeError",
     "evalue": "module 'numpy' has no attribute 'intersection'",
     "output_type": "error",
     "traceback": [
      "\u001b[1;31m---------------------------------------------------------------------------\u001b[0m",
      "\u001b[1;31mAttributeError\u001b[0m                            Traceback (most recent call last)",
      "Cell \u001b[1;32mIn[39], line 1\u001b[0m\n\u001b[1;32m----> 1\u001b[0m \u001b[43mnp\u001b[49m\u001b[38;5;241;43m.\u001b[39;49m\u001b[43mintersection\u001b[49m(arr,arr1)\n",
      "File \u001b[1;32m~\\AppData\\Local\\Programs\\Python\\Python311\\Lib\\site-packages\\numpy\\__init__.py:328\u001b[0m, in \u001b[0;36m__getattr__\u001b[1;34m(attr)\u001b[0m\n\u001b[0;32m    325\u001b[0m     \u001b[38;5;124m\"\u001b[39m\u001b[38;5;124mRemoved in NumPy 1.25.0\u001b[39m\u001b[38;5;124m\"\u001b[39m\n\u001b[0;32m    326\u001b[0m     \u001b[38;5;28;01mraise\u001b[39;00m \u001b[38;5;167;01mRuntimeError\u001b[39;00m(\u001b[38;5;124m\"\u001b[39m\u001b[38;5;124mTester was removed in NumPy 1.25.\u001b[39m\u001b[38;5;124m\"\u001b[39m)\n\u001b[1;32m--> 328\u001b[0m \u001b[38;5;28;01mraise\u001b[39;00m \u001b[38;5;167;01mAttributeError\u001b[39;00m(\u001b[38;5;124m\"\u001b[39m\u001b[38;5;124mmodule \u001b[39m\u001b[38;5;132;01m{!r}\u001b[39;00m\u001b[38;5;124m has no attribute \u001b[39m\u001b[38;5;124m\"\u001b[39m\n\u001b[0;32m    329\u001b[0m                      \u001b[38;5;124m\"\u001b[39m\u001b[38;5;132;01m{!r}\u001b[39;00m\u001b[38;5;124m\"\u001b[39m\u001b[38;5;241m.\u001b[39mformat(\u001b[38;5;18m__name__\u001b[39m, attr))\n",
      "\u001b[1;31mAttributeError\u001b[0m: module 'numpy' has no attribute 'intersection'"
     ]
    }
   ],
   "source": [
    "np.intersection(arr,arr1)"
   ]
  },
  {
   "cell_type": "code",
   "execution_count": null,
   "id": "6ec07e70-dbc2-40b9-a089-8d3f262cd83d",
   "metadata": {},
   "outputs": [],
   "source": []
  },
  {
   "cell_type": "code",
   "execution_count": null,
   "id": "d3a57b5b-83ec-4730-8013-c47f178cdbd6",
   "metadata": {},
   "outputs": [],
   "source": []
  },
  {
   "cell_type": "code",
   "execution_count": null,
   "id": "b26770b3-ec7c-44dd-9595-c0cdd93134eb",
   "metadata": {},
   "outputs": [],
   "source": []
  },
  {
   "cell_type": "code",
   "execution_count": null,
   "id": "af6cba9d-8792-494a-8106-fa9f88fd5e34",
   "metadata": {},
   "outputs": [],
   "source": []
  },
  {
   "cell_type": "code",
   "execution_count": null,
   "id": "d3bfe6e7-0521-416b-9e1b-58bc73dd053e",
   "metadata": {},
   "outputs": [],
   "source": []
  },
  {
   "cell_type": "code",
   "execution_count": null,
   "id": "ccc35449-0546-45b9-9c07-7d1995ae031b",
   "metadata": {},
   "outputs": [],
   "source": []
  },
  {
   "cell_type": "code",
   "execution_count": null,
   "id": "d1d35bb4-2003-4e91-a6b1-7ae2df2f4bd1",
   "metadata": {},
   "outputs": [],
   "source": []
  }
 ],
 "metadata": {
  "kernelspec": {
   "display_name": "Python 3 (ipykernel)",
   "language": "python",
   "name": "python3"
  },
  "language_info": {
   "codemirror_mode": {
    "name": "ipython",
    "version": 3
   },
   "file_extension": ".py",
   "mimetype": "text/x-python",
   "name": "python",
   "nbconvert_exporter": "python",
   "pygments_lexer": "ipython3",
   "version": "3.11.4"
  }
 },
 "nbformat": 4,
 "nbformat_minor": 5
}
